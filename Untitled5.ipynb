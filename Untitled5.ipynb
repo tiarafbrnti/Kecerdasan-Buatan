{
  "nbformat": 4,
  "nbformat_minor": 0,
  "metadata": {
    "colab": {
      "provenance": []
    },
    "kernelspec": {
      "name": "python3",
      "display_name": "Python 3"
    },
    "language_info": {
      "name": "python"
    }
  },
  "cells": [
    {
      "cell_type": "code",
      "execution_count": 1,
      "metadata": {
        "id": "n10gplkvcCaF"
      },
      "outputs": [],
      "source": [
        "import queue\n",
        "import matplotlib.pyplot as plt\n",
        "def getHeuristics():\n",
        "  heuristics = {}\n",
        "  f = open(\"/content/heuristics.txt\")\n",
        "  for i in f.readlines():\n",
        "    node_heuristic_val = i.split()\n",
        "    heuristics[node_heuristic_val[0]] = int(node_heuristic_val[1])\n",
        "  return heuristics\n"
      ]
    },
    {
      "cell_type": "code",
      "source": [
        "def getCity():\n",
        "  city = {}\n",
        "  citiesCode = {}\n",
        "  f = open(\"/content/cities.txt\")\n",
        "  j = 1\n",
        "  for i in f.readlines():\n",
        "    node_city_val = i.split()\n",
        "    city[node_city_val[0]] = [int(node_city_val[1]), int(node_city_val[2])]\n",
        "    citiesCode[j] = node_city_val[0]\n",
        "    j += 1\n",
        "  return city, citiesCode\n"
      ],
      "metadata": {
        "id": "EN-UX3ludCcj"
      },
      "execution_count": 3,
      "outputs": []
    },
    {
      "cell_type": "code",
      "source": [
        "def createGraph():\n",
        "  graph = {}\n",
        "  file = open(\"/content/citiesGraph.txt\")\n",
        "  for i in file.readlines():\n",
        "    node_val = i.split()\n",
        "    if node_val[0] in graph and node_val[1] in graph:\n",
        "      c = graph.get(node_val[0])\n",
        "      c.append([node_val[1], node_val[2]])\n",
        "      graph.update({node_val[0]: c})\n",
        "\n",
        "      c = graph.get(node_val[1])\n",
        "      c.append([node_val[0], node_val[2]])\n",
        "      graph.update({node_val[1]: c})\n",
        "\n",
        "    elif node_val[0] in graph:\n",
        "      c = graph.get(node_val[0])\n",
        "      c.append([node_val[1], node_val[2]])\n",
        "      graph.update({node_val[0]: c})\n",
        "\n",
        "      graph[node_val[1]] = [[node_val[0], node_val[2]]]\n",
        "\n",
        "    elif node_val[1] in graph:\n",
        "      c = graph.get(node_val[1])\n",
        "      c.append([node_val[0], node_val[2]])\n",
        "      graph.update({node_val[1]: c})\n",
        "\n",
        "      graph[node_val[1]] = [[node_val[0], node_val[2]]]\n",
        "\n",
        "    else:\n",
        "      graph[node_val[0]] = [[node_val[1], node_val[2]]]\n",
        "      graph[node_val[1]] = [[node_val[0], node_val[2]]]\n",
        "    \n",
        "  return graph\n"
      ],
      "metadata": {
        "id": "oYBQ1eVgdOUY"
      },
      "execution_count": 4,
      "outputs": []
    },
    {
      "cell_type": "code",
      "source": [
        "def GBFS(startNode, heuristics, graph, goalNode=\"Bucharest\"):\n",
        "  priorityQueue = queue.PriorityQueue()\n",
        "  priorityQueue.put((heuristics[startNode], startNode))\n",
        "\n",
        "  path = []\n",
        "\n",
        "  while priorityQueue.empty() == False:\n",
        "    current = priorityQueue.get()[1]\n",
        "    path.append(current)\n",
        "\n",
        "    if current == goalNode:\n",
        "      break\n",
        "\n",
        "    priorityQueue = queue.PriorityQueue()\n",
        "\n",
        "    for i in graph[current]:\n",
        "      if i[0] not in path:\n",
        "        priorityQueue.put((heuristics[i[0]], i[0]))\n",
        "\n",
        "  return path\n"
      ],
      "metadata": {
        "id": "FoRqVROjdQ3V"
      },
      "execution_count": 5,
      "outputs": []
    },
    {
      "cell_type": "code",
      "source": [
        "def drawMap(city, gbfs, graph):\n",
        "  for i, j in city.items():\n",
        "    plt.plot(j[0], j[1], \"ro\")\n",
        "    plt.annotate(i, (j[0] + 5, j[1]))\n",
        "\n",
        "    for k in graph[i]:\n",
        "      n = city[k[0]]\n",
        "      plt.plot([j[0], n[0]], [j[1], n[1]], \"gray\")\n",
        "\n",
        "  for i in range(len(gbfs)):\n",
        "    try:\n",
        "      first = city[gbfs[i]]\n",
        "      secend = city[gbfs[i + 1]]\n",
        "\n",
        "      plt.plot([first[0], secend[0]], [first[1], secend[1]], \"green\")\n",
        "    except:\n",
        "      continue\n",
        "  \n",
        "  plt.errorbar(1, 1, label=\"GBFS\", color=\"green\")\n",
        "  plt.legend(loc=\"lower left\")\n",
        "\n",
        "  plt.show()\n",
        "\n",
        "\n",
        "def main():\n",
        "  heuristic = getHeuristics()\n",
        "  graph = createGraph()\n",
        "  city, citiesCode = getCity()\n",
        "\n",
        "  for i, j, in citiesCode.items():\n",
        "    print(i, j)\n",
        "  \n",
        "  while True:\n",
        "    inputCode = int(input(\"masukan nomor kota asal (0 untuk keluar): \"))\n",
        "\n",
        "    if inputCode == 0:\n",
        "      break\n",
        "\n",
        "    cityName = citiesCode[inputCode]\n",
        "\n",
        "    gbfs = GBFS(cityName, heuristic, graph)\n",
        "    print(\"GBFS => \", gbfs)\n",
        "\n",
        "    drawMap(city, gbfs, graph)\n",
        "\n",
        "main()\n"
      ],
      "metadata": {
        "colab": {
          "base_uri": "https://localhost:8080/",
          "height": 975
        },
        "id": "BZs9eBgldWeu",
        "outputId": "9511efdd-c5b9-419c-f9e1-4bc9de1c1bb9"
      },
      "execution_count": 8,
      "outputs": [
        {
          "output_type": "stream",
          "name": "stdout",
          "text": [
            "1 Arad\n",
            "2 Bucharest\n",
            "3 Craiova\n",
            "4 Dobreta\n",
            "5 Eforie\n",
            "6 Fagaras\n",
            "7 Giurgiu\n",
            "8 Hirsova\n",
            "9 Iasi\n",
            "10 Lugoj\n",
            "11 Mehadia\n",
            "12 Neamt\n",
            "13 Oradea\n",
            "14 Pitesti\n",
            "15 Rimnicu_Vilcea\n",
            "16 Sibiu\n",
            "17 Timisoara\n",
            "18 Urziceni\n",
            "19 Vaslui\n",
            "20 Zerind\n",
            "masukan nomor kota asal (0 untuk keluar): 1\n",
            "GBFS =>  ['Arad', 'Sibiu', 'Rimnicu_Vilcea', 'Pitesti', 'Bucharest']\n"
          ]
        },
        {
          "output_type": "error",
          "ename": "KeyError",
          "evalue": "ignored",
          "traceback": [
            "\u001b[0;31m---------------------------------------------------------------------------\u001b[0m",
            "\u001b[0;31mKeyError\u001b[0m                                  Traceback (most recent call last)",
            "\u001b[0;32m<ipython-input-8-c919121ff770>\u001b[0m in \u001b[0;36m<module>\u001b[0;34m\u001b[0m\n\u001b[1;32m     44\u001b[0m     \u001b[0mdrawMap\u001b[0m\u001b[0;34m(\u001b[0m\u001b[0mcity\u001b[0m\u001b[0;34m,\u001b[0m \u001b[0mgbfs\u001b[0m\u001b[0;34m,\u001b[0m \u001b[0mgraph\u001b[0m\u001b[0;34m)\u001b[0m\u001b[0;34m\u001b[0m\u001b[0;34m\u001b[0m\u001b[0m\n\u001b[1;32m     45\u001b[0m \u001b[0;34m\u001b[0m\u001b[0m\n\u001b[0;32m---> 46\u001b[0;31m \u001b[0mmain\u001b[0m\u001b[0;34m(\u001b[0m\u001b[0;34m)\u001b[0m\u001b[0;34m\u001b[0m\u001b[0;34m\u001b[0m\u001b[0m\n\u001b[0m",
            "\u001b[0;32m<ipython-input-8-c919121ff770>\u001b[0m in \u001b[0;36mmain\u001b[0;34m()\u001b[0m\n\u001b[1;32m     42\u001b[0m     \u001b[0mprint\u001b[0m\u001b[0;34m(\u001b[0m\u001b[0;34m\"GBFS => \"\u001b[0m\u001b[0;34m,\u001b[0m \u001b[0mgbfs\u001b[0m\u001b[0;34m)\u001b[0m\u001b[0;34m\u001b[0m\u001b[0;34m\u001b[0m\u001b[0m\n\u001b[1;32m     43\u001b[0m \u001b[0;34m\u001b[0m\u001b[0m\n\u001b[0;32m---> 44\u001b[0;31m     \u001b[0mdrawMap\u001b[0m\u001b[0;34m(\u001b[0m\u001b[0mcity\u001b[0m\u001b[0;34m,\u001b[0m \u001b[0mgbfs\u001b[0m\u001b[0;34m,\u001b[0m \u001b[0mgraph\u001b[0m\u001b[0;34m)\u001b[0m\u001b[0;34m\u001b[0m\u001b[0;34m\u001b[0m\u001b[0m\n\u001b[0m\u001b[1;32m     45\u001b[0m \u001b[0;34m\u001b[0m\u001b[0m\n\u001b[1;32m     46\u001b[0m \u001b[0mmain\u001b[0m\u001b[0;34m(\u001b[0m\u001b[0;34m)\u001b[0m\u001b[0;34m\u001b[0m\u001b[0;34m\u001b[0m\u001b[0m\n",
            "\u001b[0;32m<ipython-input-8-c919121ff770>\u001b[0m in \u001b[0;36mdrawMap\u001b[0;34m(city, gbfs, graph)\u001b[0m\n\u001b[1;32m      4\u001b[0m     \u001b[0mplt\u001b[0m\u001b[0;34m.\u001b[0m\u001b[0mannotate\u001b[0m\u001b[0;34m(\u001b[0m\u001b[0mi\u001b[0m\u001b[0;34m,\u001b[0m \u001b[0;34m(\u001b[0m\u001b[0mj\u001b[0m\u001b[0;34m[\u001b[0m\u001b[0;36m0\u001b[0m\u001b[0;34m]\u001b[0m \u001b[0;34m+\u001b[0m \u001b[0;36m5\u001b[0m\u001b[0;34m,\u001b[0m \u001b[0mj\u001b[0m\u001b[0;34m[\u001b[0m\u001b[0;36m1\u001b[0m\u001b[0;34m]\u001b[0m\u001b[0;34m)\u001b[0m\u001b[0;34m)\u001b[0m\u001b[0;34m\u001b[0m\u001b[0;34m\u001b[0m\u001b[0m\n\u001b[1;32m      5\u001b[0m \u001b[0;34m\u001b[0m\u001b[0m\n\u001b[0;32m----> 6\u001b[0;31m     \u001b[0;32mfor\u001b[0m \u001b[0mk\u001b[0m \u001b[0;32min\u001b[0m \u001b[0mgraph\u001b[0m\u001b[0;34m[\u001b[0m\u001b[0mi\u001b[0m\u001b[0;34m]\u001b[0m\u001b[0;34m:\u001b[0m\u001b[0;34m\u001b[0m\u001b[0;34m\u001b[0m\u001b[0m\n\u001b[0m\u001b[1;32m      7\u001b[0m       \u001b[0mn\u001b[0m \u001b[0;34m=\u001b[0m \u001b[0mcity\u001b[0m\u001b[0;34m[\u001b[0m\u001b[0mk\u001b[0m\u001b[0;34m[\u001b[0m\u001b[0;36m0\u001b[0m\u001b[0;34m]\u001b[0m\u001b[0;34m]\u001b[0m\u001b[0;34m\u001b[0m\u001b[0;34m\u001b[0m\u001b[0m\n\u001b[1;32m      8\u001b[0m       \u001b[0mplt\u001b[0m\u001b[0;34m.\u001b[0m\u001b[0mplot\u001b[0m\u001b[0;34m(\u001b[0m\u001b[0;34m[\u001b[0m\u001b[0mj\u001b[0m\u001b[0;34m[\u001b[0m\u001b[0;36m0\u001b[0m\u001b[0;34m]\u001b[0m\u001b[0;34m,\u001b[0m \u001b[0mn\u001b[0m\u001b[0;34m[\u001b[0m\u001b[0;36m0\u001b[0m\u001b[0;34m]\u001b[0m\u001b[0;34m]\u001b[0m\u001b[0;34m,\u001b[0m \u001b[0;34m[\u001b[0m\u001b[0mj\u001b[0m\u001b[0;34m[\u001b[0m\u001b[0;36m1\u001b[0m\u001b[0;34m]\u001b[0m\u001b[0;34m,\u001b[0m \u001b[0mn\u001b[0m\u001b[0;34m[\u001b[0m\u001b[0;36m1\u001b[0m\u001b[0;34m]\u001b[0m\u001b[0;34m]\u001b[0m\u001b[0;34m,\u001b[0m \u001b[0;34m\"gray\"\u001b[0m\u001b[0;34m)\u001b[0m\u001b[0;34m\u001b[0m\u001b[0;34m\u001b[0m\u001b[0m\n",
            "\u001b[0;31mKeyError\u001b[0m: 'Lugoj'"
          ]
        },
        {
          "output_type": "display_data",
          "data": {
            "text/plain": [
              "<Figure size 432x288 with 1 Axes>"
            ],
            "image/png": "[encoded data removed]"
          },
          "metadata": {
            "needs_background": "light"
          }
        }
      ]
    }
  ]
}